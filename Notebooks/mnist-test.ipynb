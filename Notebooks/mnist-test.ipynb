{
    "cells": [
        {
            "cell_type": "code",
            "execution_count": 1,
            "source": [
                "from tensorflow.keras import layers\n",
                "from tensorflow.keras import models\n",
                "model = models.Sequential()\n",
                "model.add(layers.Conv2D(32, (3, 3), activation='relu', input_shape=(28, 28, 1)))\n",
                "model.add(layers.MaxPooling2D((2, 2)))\n",
                "model.add(layers.Conv2D(64, (3, 3), activation='relu'))\n",
                "model.add(layers.MaxPooling2D((2, 2)))\n",
                "model.add(layers.Conv2D(64, (3, 3), activation='relu'))\n",
                "model.add(layers.Flatten())\n",
                "model.add(layers.Dense(64, activation='relu'))\n",
                "model.add(layers.Dense(10, activation='softmax'))\n",
                "model.summary()"
            ],
            "outputs": [
                {
                    "output_type": "stream",
                    "name": "stdout",
                    "text": [
                        "Init Plugin\n",
                        "Init Graph Optimizer\n",
                        "Init Kernel\n",
                        "Metal device set to: Apple M1\n",
                        "\n",
                        "systemMemory: 16.00 GB\n",
                        "maxCacheSize: 5.33 GB\n",
                        "\n",
                        "Model: \"sequential\"\n",
                        "_________________________________________________________________\n",
                        "Layer (type)                 Output Shape              Param #   \n",
                        "=================================================================\n",
                        "conv2d (Conv2D)              (None, 26, 26, 32)        320       \n",
                        "_________________________________________________________________\n",
                        "max_pooling2d (MaxPooling2D) (None, 13, 13, 32)        0         \n",
                        "_________________________________________________________________\n",
                        "conv2d_1 (Conv2D)            (None, 11, 11, 64)        18496     \n",
                        "_________________________________________________________________\n",
                        "max_pooling2d_1 (MaxPooling2 (None, 5, 5, 64)          0         \n",
                        "_________________________________________________________________\n",
                        "conv2d_2 (Conv2D)            (None, 3, 3, 64)          36928     \n",
                        "_________________________________________________________________\n",
                        "flatten (Flatten)            (None, 576)               0         \n",
                        "_________________________________________________________________\n",
                        "dense (Dense)                (None, 64)                36928     \n",
                        "_________________________________________________________________\n",
                        "dense_1 (Dense)              (None, 10)                650       \n",
                        "=================================================================\n",
                        "Total params: 93,322\n",
                        "Trainable params: 93,322\n",
                        "Non-trainable params: 0\n",
                        "_________________________________________________________________\n"
                    ]
                },
                {
                    "output_type": "stream",
                    "name": "stderr",
                    "text": [
                        "2021-08-10 21:29:03.663140: I tensorflow/core/common_runtime/pluggable_device/pluggable_device_factory.cc:305] Could not identify NUMA node of platform GPU ID 0, defaulting to 0. Your kernel may not have been built with NUMA support.\n",
                        "2021-08-10 21:29:03.663218: I tensorflow/core/common_runtime/pluggable_device/pluggable_device_factory.cc:271] Created TensorFlow device (/job:localhost/replica:0/task:0/device:GPU:0 with 0 MB memory) -> physical PluggableDevice (device: 0, name: METAL, pci bus id: <undefined>)\n"
                    ]
                }
            ],
            "metadata": {}
        },
        {
            "cell_type": "code",
            "execution_count": 2,
            "source": [
                "from tensorflow.keras.datasets import mnist\n",
                "from tensorflow.keras.utils import to_categorical\n",
                "(train_images, train_labels), (test_images, test_labels) = mnist.load_data()\n",
                "train_images = train_images.reshape((60000, 28, 28, 1))\n",
                "train_images = train_images.astype('float32') / 255\n",
                "test_images = test_images.reshape((10000, 28, 28, 1))\n",
                "test_images = test_images.astype('float32') / 255\n",
                "train_labels = to_categorical(train_labels)\n",
                "test_labels = to_categorical(test_labels)\n",
                "model.compile(optimizer='rmsprop',\n",
                "              loss='categorical_crossentropy',\n",
                "              metrics=['accuracy'])\n",
                "model.fit(train_images, train_labels, epochs=5, batch_size=64)\n",
                "test_loss, test_acc = model.evaluate(test_images, test_labels)\n",
                "test_acc"
            ],
            "outputs": [
                {
                    "output_type": "stream",
                    "name": "stderr",
                    "text": [
                        "2021-08-10 21:29:27.041664: I tensorflow/compiler/mlir/mlir_graph_optimization_pass.cc:176] None of the MLIR Optimization Passes are enabled (registered 2)\n",
                        "2021-08-10 21:29:27.041828: W tensorflow/core/platform/profile_utils/cpu_utils.cc:128] Failed to get CPU frequency: 0 Hz\n",
                        "2021-08-10 21:29:27.205712: I tensorflow/core/grappler/optimizers/custom_graph_optimizer_registry.cc:112] Plugin optimizer for device_type GPU is enabled.\n"
                    ]
                },
                {
                    "output_type": "stream",
                    "name": "stdout",
                    "text": [
                        "Epoch 1/5\n",
                        "938/938 [==============================] - 10s 10ms/step - loss: 0.1731 - accuracy: 0.9465\n",
                        "Epoch 2/5\n",
                        "938/938 [==============================] - 10s 10ms/step - loss: 0.0494 - accuracy: 0.9851\n",
                        "Epoch 3/5\n",
                        "938/938 [==============================] - 10s 10ms/step - loss: 0.0329 - accuracy: 0.9899\n",
                        "Epoch 4/5\n",
                        "938/938 [==============================] - 10s 10ms/step - loss: 0.0261 - accuracy: 0.9923\n",
                        "Epoch 5/5\n",
                        "938/938 [==============================] - 10s 11ms/step - loss: 0.0194 - accuracy: 0.9942\n",
                        " 34/313 [==>...........................] - ETA: 1s - loss: 0.1183 - accuracy: 0.9614"
                    ]
                },
                {
                    "output_type": "stream",
                    "name": "stderr",
                    "text": [
                        "2021-08-10 21:30:15.847434: I tensorflow/core/grappler/optimizers/custom_graph_optimizer_registry.cc:112] Plugin optimizer for device_type GPU is enabled.\n"
                    ]
                },
                {
                    "output_type": "stream",
                    "name": "stdout",
                    "text": [
                        "313/313 [==============================] - 2s 5ms/step - loss: 0.0791 - accuracy: 0.9773\n"
                    ]
                },
                {
                    "output_type": "execute_result",
                    "data": {
                        "text/plain": [
                            "0.9773000478744507"
                        ]
                    },
                    "metadata": {},
                    "execution_count": 2
                }
            ],
            "metadata": {}
        },
        {
            "cell_type": "code",
            "execution_count": null,
            "source": [],
            "outputs": [],
            "metadata": {}
        }
    ],
    "metadata": {
        "orig_nbformat": 4,
        "language_info": {
            "name": "python",
            "version": "3.9.5",
            "mimetype": "text/x-python",
            "codemirror_mode": {
                "name": "ipython",
                "version": 3
            },
            "pygments_lexer": "ipython3",
            "nbconvert_exporter": "python",
            "file_extension": ".py"
        },
        "kernelspec": {
            "name": "python3",
            "display_name": "Python 3.9.5 64-bit"
        },
        "interpreter": {
            "hash": "4c76c5c26ffd429616e74133f2897e86493eedf6a992f3167e841185fdd9e9e7"
        }
    },
    "nbformat": 4,
    "nbformat_minor": 2
}